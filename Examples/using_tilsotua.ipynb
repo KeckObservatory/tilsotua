{
 "cells": [
  {
   "cell_type": "markdown",
   "id": "b9ffcce9-da91-4dc6-84c5-55e2da1fd686",
   "metadata": {},
   "source": [
    "# Using `tilsotua`\n",
    "\n",
    "`tilsotua` calculates the WCS coordinates of LRIS slits in multislit observations based on the original mask design files. This notebook walks through examples of how to use the code. \n",
    "\n",
    "The code requires as input a FITS file describing the slit positions (e.g., from the UCO/Lick archive of mask designs) or an output file created by the code `autoslit` (specifically the file with extension `.file3`). \n",
    "\n",
    "The code outputs four files:\n",
    "1. **FITS file**:a modified version of the UCO/Lick FITS archive files describing the slitmasks.  \n",
    "2. **CSV file**: slit vertices in milling machine (X,Y) and WCS (RA,Dec) coordinates.\n",
    "3. **DS9 region file**: for displaying the sky positions of with SAO's DS9 image viewer.\n",
    "4. **PDF quick-look file**: slit positions on a PanSTARRS image of the field, including zoomed views of up to 6 alignment stars.\n",
    "\n",
    "## Import the code:"
   ]
  },
  {
   "cell_type": "code",
   "execution_count": null,
   "id": "fb2bf43d-c5d2-434e-a991-89bed26939f3",
   "metadata": {},
   "outputs": [
    {
     "ename": "ImportError",
     "evalue": "cannot import name 'xytowcs' from 'tilsotua' (unknown location)",
     "output_type": "error",
     "traceback": [
      "\u001b[0;31m---------------------------------------------------------------------------\u001b[0m",
      "\u001b[0;31mImportError\u001b[0m                               Traceback (most recent call last)",
      "\u001b[0;32m/var/folders/xp/8jbr66bj2b18fmnk_vq23x300000gp/T/ipykernel_5969/4192161608.py\u001b[0m in \u001b[0;36m<module>\u001b[0;34m\u001b[0m\n\u001b[0;32m----> 1\u001b[0;31m \u001b[0;32mfrom\u001b[0m \u001b[0mtilsotua\u001b[0m \u001b[0;32mimport\u001b[0m \u001b[0mxytowcs\u001b[0m\u001b[0;34m\u001b[0m\u001b[0;34m\u001b[0m\u001b[0m\n\u001b[0m",
      "\u001b[0;31mImportError\u001b[0m: cannot import name 'xytowcs' from 'tilsotua' (unknown location)"
     ]
    }
   ],
   "source": [
    "from tilsotua import xytowcs"
   ]
  },
  {
   "cell_type": "markdown",
   "id": "82ec5c80-9615-4a24-8f19-bdac013cb4ba",
   "metadata": {},
   "source": [
    "## Calculate results using an input FITS file"
   ]
  },
  {
   "cell_type": "code",
   "execution_count": 2,
   "id": "7243ac3d-2046-4837-bacd-a5b624032676",
   "metadata": {},
   "outputs": [
    {
     "ename": "NameError",
     "evalue": "name 'xytowcs' is not defined",
     "output_type": "error",
     "traceback": [
      "\u001b[0;31m---------------------------------------------------------------------------\u001b[0m",
      "\u001b[0;31mNameError\u001b[0m                                 Traceback (most recent call last)",
      "\u001b[0;32m/var/folders/xp/8jbr66bj2b18fmnk_vq23x300000gp/T/ipykernel_5969/551537901.py\u001b[0m in \u001b[0;36m<module>\u001b[0;34m\u001b[0m\n\u001b[0;32m----> 1\u001b[0;31m \u001b[0mxytowcs\u001b[0m\u001b[0;34m(\u001b[0m\u001b[0;34m'test_mask.fits'\u001b[0m\u001b[0;34m,\u001b[0m\u001b[0;34m'tilsotua_example_mask'\u001b[0m\u001b[0;34m)\u001b[0m\u001b[0;34m\u001b[0m\u001b[0;34m\u001b[0m\u001b[0m\n\u001b[0m",
      "\u001b[0;31mNameError\u001b[0m: name 'xytowcs' is not defined"
     ]
    }
   ],
   "source": [
    "xytowcs('test_mask.fits','tilsotua_example_mask')"
   ]
  },
  {
   "cell_type": "markdown",
   "id": "9765d4aa-7de1-438e-845c-eee8599b0cc9",
   "metadata": {},
   "source": [
    "## Calculate results using an `autoslit` file"
   ]
  },
  {
   "cell_type": "code",
   "execution_count": 3,
   "id": "3c833783-9a92-4d5a-bd57-f2733fdd52dd",
   "metadata": {},
   "outputs": [
    {
     "ename": "NameError",
     "evalue": "name 'xytowcs' is not defined",
     "output_type": "error",
     "traceback": [
      "\u001b[0;31m---------------------------------------------------------------------------\u001b[0m",
      "\u001b[0;31mNameError\u001b[0m                                 Traceback (most recent call last)",
      "\u001b[0;32m/var/folders/xp/8jbr66bj2b18fmnk_vq23x300000gp/T/ipykernel_5969/1536267468.py\u001b[0m in \u001b[0;36m<module>\u001b[0;34m\u001b[0m\n\u001b[0;32m----> 1\u001b[0;31m \u001b[0mxytowcs\u001b[0m\u001b[0;34m(\u001b[0m\u001b[0;34m'test_mask.file3'\u001b[0m\u001b[0;34m,\u001b[0m\u001b[0;34m'tilsotua_example_mask'\u001b[0m\u001b[0;34m)\u001b[0m\u001b[0;34m\u001b[0m\u001b[0;34m\u001b[0m\u001b[0m\n\u001b[0m",
      "\u001b[0;31mNameError\u001b[0m: name 'xytowcs' is not defined"
     ]
    }
   ],
   "source": [
    "xytowcs('test_mask.file3','tilsotua_example_mask')"
   ]
  },
  {
   "cell_type": "code",
   "execution_count": null,
   "id": "833afd37-9b0a-4c7b-b5f8-e772d57f1c51",
   "metadata": {},
   "outputs": [],
   "source": []
  }
 ],
 "metadata": {
  "kernelspec": {
   "display_name": "Python 3 (ipykernel)",
   "language": "python",
   "name": "python3"
  },
  "language_info": {
   "codemirror_mode": {
    "name": "ipython",
    "version": 3
   },
   "file_extension": ".py",
   "mimetype": "text/x-python",
   "name": "python",
   "nbconvert_exporter": "python",
   "pygments_lexer": "ipython3",
   "version": "3.9.7"
  }
 },
 "nbformat": 4,
 "nbformat_minor": 5
}
